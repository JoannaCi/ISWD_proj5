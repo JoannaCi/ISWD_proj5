{
 "cells": [
  {
   "cell_type": "markdown",
   "metadata": {},
   "source": [
    "**Cicha Joanna, Mak Maciej - projekt nr 5 [ISWD]**"
   ]
  },
  {
   "cell_type": "code",
   "execution_count": 37,
   "metadata": {},
   "outputs": [],
   "source": [
    "import pandas as pd\n",
    "import matplotlib.pyplot as plt\n",
    "\n",
    "from sklearn.model_selection import train_test_split\n",
    "from sklearn.preprocessing import StandardScaler\n",
    "from sklearn.linear_model import LogisticRegression\n",
    "from sklearn.metrics import classification_report, confusion_matrix, accuracy_score\n"
   ]
  },
  {
   "cell_type": "code",
   "execution_count": 38,
   "metadata": {},
   "outputs": [],
   "source": [
    "data = pd.read_csv('MonoData/breast_cancer.csv')\n",
    "column_names = ['Feature1', 'Feature2', 'Feature3', 'Feature4', 'Feature5', 'Feature6', 'Feature7', 'Target']\n",
    "data.columns = column_names"
   ]
  },
  {
   "cell_type": "code",
   "execution_count": 39,
   "metadata": {},
   "outputs": [
    {
     "name": "stdout",
     "output_type": "stream",
     "text": [
      "<class 'pandas.core.frame.DataFrame'>\n",
      "RangeIndex: 277 entries, 0 to 276\n",
      "Data columns (total 8 columns):\n",
      " #   Column    Non-Null Count  Dtype  \n",
      "---  ------    --------------  -----  \n",
      " 0   Feature1  277 non-null    float64\n",
      " 1   Feature2  277 non-null    float64\n",
      " 2   Feature3  277 non-null    float64\n",
      " 3   Feature4  277 non-null    float64\n",
      " 4   Feature5  277 non-null    float64\n",
      " 5   Feature6  277 non-null    float64\n",
      " 6   Feature7  277 non-null    float64\n",
      " 7   Target    277 non-null    float64\n",
      "dtypes: float64(8)\n",
      "memory usage: 17.4 KB\n",
      "None\n",
      "   Feature1  Feature2  Feature3  Feature4  Feature5  Feature6  Feature7  \\\n",
      "0       0.5  0.500000     0.000       0.0       0.0       1.0       0.0   \n",
      "1       0.5  0.833333     0.000       0.0       0.5       0.0       0.0   \n",
      "2       1.0  0.833333     0.000       1.0       1.0       1.0       1.0   \n",
      "3       1.0  1.000000     0.125       1.0       0.5       0.0       0.0   \n",
      "4       1.0  0.833333     0.125       0.0       0.5       1.0       1.0   \n",
      "\n",
      "   Target  \n",
      "0     1.0  \n",
      "1     2.0  \n",
      "2     1.0  \n",
      "3     2.0  \n",
      "4     1.0  \n",
      "         Feature1    Feature2    Feature3    Feature4    Feature5    Feature6  \\\n",
      "count  277.000000  277.000000  277.000000  277.000000  277.000000  277.000000   \n",
      "mean     0.758123    0.690132    0.062726    0.198556    0.528881    0.472924   \n",
      "std      0.267803    0.252904    0.142214    0.399635    0.364994    0.500170   \n",
      "min      0.000000    0.000000    0.000000    0.000000    0.000000    0.000000   \n",
      "25%      0.500000    0.500000    0.000000    0.000000    0.500000    0.000000   \n",
      "50%      1.000000    0.666667    0.000000    0.000000    0.500000    0.000000   \n",
      "75%      1.000000    0.833333    0.000000    0.000000    1.000000    1.000000   \n",
      "max      1.000000    1.000000    1.000000    1.000000    1.000000    1.000000   \n",
      "\n",
      "         Feature7      Target  \n",
      "count  277.000000  277.000000  \n",
      "mean     0.223827    1.292419  \n",
      "std      0.417562    0.455697  \n",
      "min      0.000000    1.000000  \n",
      "25%      0.000000    1.000000  \n",
      "50%      0.000000    1.000000  \n",
      "75%      0.000000    2.000000  \n",
      "max      1.000000    2.000000  \n",
      "Feature1    0\n",
      "Feature2    0\n",
      "Feature3    0\n",
      "Feature4    0\n",
      "Feature5    0\n",
      "Feature6    0\n",
      "Feature7    0\n",
      "Target      0\n",
      "dtype: int64\n"
     ]
    }
   ],
   "source": [
    "print(data.info())\n",
    "print(data.head())\n",
    "print(data.describe())\n",
    "print(data.isnull().sum())"
   ]
  },
  {
   "cell_type": "code",
   "execution_count": 40,
   "metadata": {},
   "outputs": [],
   "source": [
    "X = data.iloc[:, :-1]\n",
    "y = data.iloc[:, -1]\n",
    "\n",
    "scaler = StandardScaler()\n",
    "X_scaled = scaler.fit_transform(X)\n",
    "\n",
    "X_train, X_test, y_train, y_test = train_test_split(X_scaled, y, test_size=0.15, random_state=42)"
   ]
  },
  {
   "cell_type": "code",
   "execution_count": 41,
   "metadata": {},
   "outputs": [
    {
     "name": "stdout",
     "output_type": "stream",
     "text": [
      "Accuracy: 0.7380952380952381\n",
      "Confusion Matrix:\n",
      " [[26  4]\n",
      " [ 7  5]]\n",
      "Classification Report:\n",
      "               precision    recall  f1-score   support\n",
      "\n",
      "         1.0       0.79      0.87      0.83        30\n",
      "         2.0       0.56      0.42      0.48        12\n",
      "\n",
      "    accuracy                           0.74        42\n",
      "   macro avg       0.67      0.64      0.65        42\n",
      "weighted avg       0.72      0.74      0.73        42\n",
      "\n"
     ]
    }
   ],
   "source": [
    "model = LogisticRegression()\n",
    "model.fit(X_train, y_train)\n",
    "\n",
    "predictions = model.predict(X_test)\n",
    "\n",
    "print(\"Accuracy:\", accuracy_score(y_test, predictions))\n",
    "print(\"Confusion Matrix:\\n\", confusion_matrix(y_test, predictions))\n",
    "print(\"Classification Report:\\n\", classification_report(y_test, predictions))"
   ]
  }
 ],
 "metadata": {
  "kernelspec": {
   "display_name": "iswd",
   "language": "python",
   "name": "python3"
  },
  "language_info": {
   "codemirror_mode": {
    "name": "ipython",
    "version": 3
   },
   "file_extension": ".py",
   "mimetype": "text/x-python",
   "name": "python",
   "nbconvert_exporter": "python",
   "pygments_lexer": "ipython3",
   "version": "3.12.2"
  }
 },
 "nbformat": 4,
 "nbformat_minor": 2
}
